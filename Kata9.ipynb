{
 "cells": [
  {
   "cell_type": "code",
   "execution_count": 3,
   "metadata": {},
   "outputs": [
    {
     "data": {
      "text/plain": [
       "'payload, propellant, structure'"
      ]
     },
     "execution_count": 3,
     "metadata": {},
     "output_type": "execute_result"
    }
   ],
   "source": [
    "# Funciones sin argumentos\n",
    "def rocket_parts():\n",
    "   return 'payload, propellant, structure'\n",
    "\n",
    "output = rocket_parts()\n",
    "output\n",
    "'payload, propellant, structure'"
   ]
  },
  {
   "cell_type": "code",
   "execution_count": 18,
   "metadata": {},
   "outputs": [
    {
     "name": "stdout",
     "output_type": "stream",
     "text": [
      "238,855\n"
     ]
    }
   ],
   "source": [
    "# Uso de argumentos en una función de Python\n",
    "def distance_from_earth(destination):\n",
    "    if destination == 'Moon':\n",
    "        return '238,855'\n",
    "    else:\n",
    "        return 'Unable to compute to that destination'\n",
    "\n",
    "lugar = distance_from_earth('Moon')\n",
    "print(lugar)\n"
   ]
  },
  {
   "cell_type": "code",
   "execution_count": 17,
   "metadata": {},
   "outputs": [
    {
     "name": "stdout",
     "output_type": "stream",
     "text": [
      "Dias para de viaje: 118.05555555555556\n"
     ]
    }
   ],
   "source": [
    "# Varios argumentos necesarios\n",
    "d = 340000\n",
    "s = 120\n",
    "def days_to_complete(distance, speed):\n",
    "    hours = distance/speed\n",
    "    return hours/24\n",
    "diasv = days_to_complete(d,s)\n",
    "print(f'Dias para de viaje: {diasv}')"
   ]
  },
  {
   "cell_type": "code",
   "execution_count": 19,
   "metadata": {},
   "outputs": [
    {
     "name": "stdout",
     "output_type": "stream",
     "text": [
      "Dias para de viaje: 118\n"
     ]
    }
   ],
   "source": [
    "#Funciones como argumentos\n",
    "d = 340000\n",
    "s = 120\n",
    "def days_to_complete(distance, speed):\n",
    "    hours = distance/speed\n",
    "    return hours/24\n",
    "diasv = days_to_complete(d,s)\n",
    "print(f'Dias para de viaje: {round(diasv)}')"
   ]
  },
  {
   "cell_type": "code",
   "execution_count": 22,
   "metadata": {},
   "outputs": [
    {
     "name": "stdout",
     "output_type": "stream",
     "text": [
      "Arrival: Sunday 17:53\n"
     ]
    }
   ],
   "source": [
    "# Uso de argumentos de palabra clave en Python\n",
    "hours = 0\n",
    "from datetime import timedelta, datetime\n",
    "\n",
    "def arrival_time(hours):\n",
    "    now = datetime.now()\n",
    "    arrival = now + timedelta(hours=hours)\n",
    "    return arrival.strftime('Arrival: %A %H:%M')\n",
    "h = arrival_time(hours)\n",
    "print(h)"
   ]
  },
  {
   "cell_type": "code",
   "execution_count": 23,
   "metadata": {},
   "outputs": [
    {
     "name": "stdout",
     "output_type": "stream",
     "text": [
      "3 astronauts assigned for this mission:\n",
      "captain: Neil Armstrong\n",
      "pilot: Buzz Aldrin\n",
      "command_pilot: Michael Collins\n"
     ]
    }
   ],
   "source": [
    "# Argumentos de palabra clave variable\n",
    "\n",
    "\n",
    "def crew_members(**kwargs):\n",
    "    print(f'{len(kwargs)} astronauts assigned for this mission:')\n",
    "    for title, name in kwargs.items():\n",
    "        print(f'{title}: {name}')\n",
    "\n",
    "crew_members(captain='Neil Armstrong', pilot='Buzz Aldrin', command_pilot='Michael Collins')\n"
   ]
  },
  {
   "cell_type": "markdown",
   "metadata": {},
   "source": [
    "# Ejercicio: Uso de funciones en Python\n",
    "Ejercicio 1: Trabajar con argumentos en funciones"
   ]
  },
  {
   "cell_type": "code",
   "execution_count": 28,
   "metadata": {},
   "outputs": [
    {
     "name": "stdout",
     "output_type": "stream",
     "text": [
      "Reporte de combustible:\n",
      "    Promedio total: 78.0%\n",
      "    Tanque principal: 88%\n",
      "    Tanque externo: 76%\n",
      "    Tanque de hidrogeno: 70% \n",
      "    \n"
     ]
    }
   ],
   "source": [
    "def reporte(principal, externo, hidrogeno):\n",
    "    promedio = (principal + externo + hidrogeno) / 3\n",
    "    return f\"\"\"Reporte de combustible:\n",
    "    Promedio total: {promedio}%\n",
    "    Tanque principal: {principal}%\n",
    "    Tanque externo: {externo}%\n",
    "    Tanque de hidrogeno: {hidrogeno}% \n",
    "    \"\"\"\n",
    "\n",
    "\n",
    "def promedio(valores):\n",
    "    total = sum(valores)\n",
    "    numero = len(valores)\n",
    "    return total / numero\n",
    "\n",
    "# Test the averaging function with a list of integers:\n",
    "promedio([80, 85, 81]) \n",
    "\n",
    "print(reporte(88, 76, 70))"
   ]
  },
  {
   "cell_type": "markdown",
   "metadata": {},
   "source": [
    "# Ejercicio 2: Trabajo con argumentos de palabra clave\n",
    "Ejercicio : Trabajar con argumentos de palabras clave en funciones"
   ]
  },
  {
   "cell_type": "code",
   "execution_count": 37,
   "metadata": {},
   "outputs": [
    {
     "name": "stdout",
     "output_type": "stream",
     "text": [
      "\n",
      "    Mission a Luna\n",
      "    Timepo total de vuelo: 65 horas\n",
      "    Total combustible restante: 500000 galones\n",
      "    \n",
      "\n",
      "    Mission a Luna\n",
      "    Timepo total de vuelo: 76 horas\n",
      "    Total combustible restante: 500000\n",
      "    \n",
      "\n",
      "    Mission a Luna\n",
      "    Timepo total de vuelo: 74 minutes\n",
      "    Total combustible restante: 500000\n",
      "    principal tanque --> 300000 galones restantes\n",
      "externo tanque --> 200000 galones restantes\n",
      "\n"
     ]
    }
   ],
   "source": [
    "def informe_cohete (prelanzamiento, tiempo_vuelo, destino, tanque_externo, tanque_interno):\n",
    "    return f\"\"\"\n",
    "    Mission a {destino}\n",
    "    Timepo total de vuelo: {prelanzamiento + tiempo_vuelo} horas\n",
    "    Total combustible restante: {tanque_externo + tanque_interno} galones\n",
    "    \"\"\"\n",
    "print(informe_cohete(14, 51, \"Luna\", 200000, 300000))\n",
    "\n",
    "\n",
    "def mission_report(destino, *minutos, **reservas):\n",
    "    return f\"\"\"\n",
    "    Mission a {destino}\n",
    "    Timepo total de vuelo: {sum(minutos)} horas\n",
    "    Total combustible restante: {sum(reservas.values())}\n",
    "    \"\"\"\n",
    "print(mission_report(\"Luna\", 10, 15, 51, principal=300000, externo=200000))\n",
    "\n",
    "def mission_report(destino, *minutos, **reservas):\n",
    "    reporte = f\"\"\"\n",
    "    Mission a {destino}\n",
    "    Timepo total de vuelo: {sum(minutos)} minutes\n",
    "    Total combustible restante: {sum(reservas.values())}\n",
    "    \"\"\"\n",
    "    for tanque, galones in reservas.items():\n",
    "        reporte += f\"{tanque} tanque --> {galones} galones restantes\\n\"\n",
    "    return reporte\n",
    "\n",
    "print(mission_report(\"Luna\", 8, 11, 55, principal=300000, externo=200000))"
   ]
  }
 ],
 "metadata": {
  "interpreter": {
   "hash": "e2bd6ed7fc23dcb0665b169fa03df2ea0f1691307af461dc0a32662f711a854f"
  },
  "kernelspec": {
   "display_name": "Python 3.10.2 64-bit (windows store)",
   "language": "python",
   "name": "python3"
  },
  "language_info": {
   "codemirror_mode": {
    "name": "ipython",
    "version": 3
   },
   "file_extension": ".py",
   "mimetype": "text/x-python",
   "name": "python",
   "nbconvert_exporter": "python",
   "pygments_lexer": "ipython3",
   "version": "3.10.2"
  },
  "orig_nbformat": 4
 },
 "nbformat": 4,
 "nbformat_minor": 2
}
